{
 "cells": [
  {
   "cell_type": "markdown",
   "metadata": {},
   "source": [
    "#  JavaScript Fundamentals Hands on\n",
    "\n",
    "## Index\n",
    "####  [1, Introduction](#section_1)\n",
    "####  [2, Basics](#section_2)\n",
    "####  [3, Variables & Operators](#section_3)\n",
    "####  [4, Popup Boxes](#section_4)\n",
    "####  [5, Conditional Staements](#section_5)\n",
    "####  [6, Loops](#section_6)\n",
    "####  [7, Functions](#section_7)\n",
    "####  [8, Events](#section_8)\n",
    "####  [9, Built-In Objects](#section_9)\n",
    "####  [10, Err Handling & Debugging](#section_10)\n",
    "####  [11, HTML DOM](#section_11)\n",
    "####  [12, Browser BOM](#section_12)\n",
    "####  [13, Form Validations](#section_13)\n",
    "####  [14, Creating Objects](#section_14)\n",
    "####  [15, Wrap UP](#section_15)\n"
   ]
  },
  {
   "cell_type": "markdown",
   "metadata": {},
   "source": [
    "<a id=\"section_1\"></a>\n",
    "## [1, Introduction](#section-title)"
   ]
  },
  {
   "cell_type": "markdown",
   "metadata": {},
   "source": [
    "<a id=\"section_2\"></a>\n",
    "## [2, Basics](#section-title)\n",
    "JavaScript is <b> light weight, dynamic, untyped, scripting </b> language.<br/>\n",
    "It supports both <b> functional, object oriented </b> paradigms.\n",
    "Along with styling object <b>(HTML, CSS)</b>, JavaScript is required to develop interactive webpages.\n",
    "Originally developed to run on client/browser side, but now even server side frameworks like nodejs <br/>\n",
    "uses javascripting.\n",
    "\n",
    "Two ways to embed java script inside HTML: <br/>\n",
    "- Inline JavaScript - place script directly inside: &lt;script&gt; script here &lt;/script&gt;\n",
    "- External JavaScript - refer external script using src attribute. &lt;script src=\"..path to js file\"/&gt; <br/>\n",
    "\n",
    "Semicolon to seperate multiple statements on a single line.<br/>\n",
    "Comment styles are similar to Java."
   ]
  },
  {
   "cell_type": "markdown",
   "metadata": {},
   "source": [
    "<a id=\"section_3\"></a>\n",
    "## [3, Variables & Operators](#section-title)\n",
    "\n",
    "Three types of variables:\n",
    "- Numbers\n",
    "- Strings\n",
    "- Boolean"
   ]
  },
  {
   "cell_type": "code",
   "execution_count": 22,
   "metadata": {
    "scrolled": true
   },
   "outputs": [
    {
     "data": {
      "text/html": [
       "<html><head><script>\n",
       "\n",
       "// variables to hold Numbers\n",
       "var intVar = 1;\n",
       "var floatVar = 10.9;\n",
       "document.write(\"Integer variables:<br/>\")\n",
       "document.write(intVar,\"<br/>\")\n",
       "document.write(floatVar,\"<br/>\")\n",
       "\n",
       "// variables that hold strings\n",
       "var strVar1 = \"foo\"\n",
       "var strVar2 = 'bar'\n",
       "document.write(\"String variables:<br/>\")\n",
       "document.write(strVar1,\"<br/>\")\n",
       "document.write(strVar2,\"<br/>\")\n",
       "\n",
       "// variables to hold boolean\n",
       "var boolVar1 = true\n",
       "var boolVar2 = false\n",
       "document.write(\"Boolean variables:<br/>\")\n",
       "document.write(boolVar1,\"<br/>\")\n",
       "document.write(boolVar2,\"<br/>\")\n",
       "\n",
       "\n",
       "</script></head></html>\n"
      ],
      "text/plain": [
       "<IPython.core.display.HTML object>"
      ]
     },
     "metadata": {
      "text/html": {
       "isolated": true
      }
     },
     "output_type": "display_data"
    }
   ],
   "source": [
    "%%html --isolated\n",
    "<html><head><script>\n",
    "\n",
    "// variables to hold Numbers\n",
    "var intVar = 1;\n",
    "var floatVar = 10.9;\n",
    "document.write(\"Integer variables:<br/>\")\n",
    "document.write(intVar,\"<br/>\")\n",
    "document.write(floatVar,\"<br/>\")\n",
    "\n",
    "// variables that hold strings\n",
    "var strVar1 = \"foo\"\n",
    "var strVar2 = 'bar'\n",
    "document.write(\"String variables:<br/>\")\n",
    "document.write(strVar1,\"<br/>\")\n",
    "document.write(strVar2,\"<br/>\")\n",
    "\n",
    "// variables to hold boolean\n",
    "var boolVar1 = true\n",
    "var boolVar2 = false\n",
    "document.write(\"Boolean variables:<br/>\")\n",
    "document.write(boolVar1,\"<br/>\")\n",
    "document.write(boolVar2,\"<br/>\")\n",
    "\n",
    "\n",
    "</script></head></html>"
   ]
  },
  {
   "cell_type": "markdown",
   "metadata": {},
   "source": [
    "JS is untyped. The actual type of object is determinted by the operator."
   ]
  },
  {
   "cell_type": "code",
   "execution_count": 7,
   "metadata": {},
   "outputs": [
    {
     "data": {
      "text/html": [
       "<html><head><script>\n",
       "\n",
       "var intVar1 = 10\n",
       "var intVar2 = 100\n",
       "var strVar1 = \"100\"\n",
       "var strVar2 = \"name\"\n",
       "var strVar3 = \"10\"\n",
       "\n",
       "// string to int converstion\n",
       "document.write(\"Number + Number: \",(intVar1+intVar2),\" (Number)<br/>\")\n",
       "document.write(\"Number + String: \",(intVar1+strVar1),\" (String)<br/>\")\n",
       "document.write(\"String + Number: \",(strVar1+intVar1),\" (String)<br/>\")\n",
       "document.write(\"Number - String (compatible): \",(intVar1-strVar1),\" (Number)<br/>\")\n",
       "document.write(\"Number - String (incompatible): \",(intVar1-strVar2),\":Not an Number<br/>\")\n",
       "document.write(\"String + String: \",(strVar1+strVar2),\" (String)<br/>\")\n",
       "document.write(\"String - String:(compatible) \",(strVar3-strVar1),\" (Number)<br/>\")\n",
       "\n",
       "\n",
       "</script></head></html>\n"
      ],
      "text/plain": [
       "<IPython.core.display.HTML object>"
      ]
     },
     "metadata": {
      "text/html": {
       "isolated": true
      }
     },
     "output_type": "display_data"
    }
   ],
   "source": [
    "%%html --isolated\n",
    "<html><head><script>\n",
    "\n",
    "var intVar1 = 10\n",
    "var intVar2 = 100\n",
    "var strVar1 = \"100\"\n",
    "var strVar2 = \"name\"\n",
    "var strVar3 = \"10\"\n",
    "\n",
    "// string to int converstion\n",
    "document.write(\"Number + Number: \",(intVar1+intVar2),\" (Number)<br/>\")\n",
    "document.write(\"Number + String: \",(intVar1+strVar1),\" (String)<br/>\")\n",
    "document.write(\"String + Number: \",(strVar1+intVar1),\" (String)<br/>\")\n",
    "document.write(\"Number - String (compatible): \",(intVar1-strVar1),\" (Number)<br/>\")\n",
    "document.write(\"Number - String (incompatible): \",(intVar1-strVar2),\":Not an Number<br/>\")\n",
    "document.write(\"String + String: \",(strVar1+strVar2),\" (String)<br/>\")\n",
    "document.write(\"String - String:(compatible) \",(strVar3-strVar1),\" (Number)<br/>\")\n",
    "\n",
    "\n",
    "</script></head></html>"
   ]
  },
  {
   "cell_type": "code",
   "execution_count": 16,
   "metadata": {},
   "outputs": [
    {
     "data": {
      "text/html": [
       "<html><head><script>\n",
       "// compound assignement\n",
       "var x=1000\n",
       "var y=x=x/10\n",
       "var z=x/=10\n",
       "// from ES6 onwards backquote strings support variable expansion\n",
       "document.write(`now x:${x}, y:${y}, z:${z} <br/>`)\n",
       "\n",
       "// conditional operation\n",
       "var intVar=100\n",
       "var strVar=\"100\"\n",
       "if( intVar == strVar) {\n",
       "    document.write(\"== matches intvar and strvar <br/>\")\n",
       "}\n",
       "if (intVar !== strVar) {\n",
       "    document.write(\"!==/=== enforces type check aswell\")\n",
       "}\n",
       "\n",
       "\n",
       "\n",
       "</script></head></html>\n"
      ],
      "text/plain": [
       "<IPython.core.display.HTML object>"
      ]
     },
     "metadata": {
      "text/html": {
       "isolated": true
      }
     },
     "output_type": "display_data"
    }
   ],
   "source": [
    "%%html --isolated\n",
    "<html><head><script>\n",
    "\n",
    "// compound assignement\n",
    "var x=1000\n",
    "var y=x=x/10\n",
    "var z=x/=10\n",
    "// from ES6 onwards backquote strings support variable expansion\n",
    "document.write(`now x:${x}, y:${y}, z:${z} <br/>`)\n",
    "\n",
    "// conditional operation\n",
    "var intVar=100\n",
    "var strVar=\"100\"\n",
    "if( intVar == strVar) {\n",
    "    document.write(\"== matches intvar and strvar <br/>\")\n",
    "}\n",
    "if (intVar !== strVar) {\n",
    "    document.write(\"!==/=== enforces type check aswell\")\n",
    "}\n",
    "\n",
    "\n",
    "\n",
    "</script></head></html>"
   ]
  },
  {
   "cell_type": "markdown",
   "metadata": {},
   "source": [
    "<a id=\"section_4\"></a>\n",
    "## [4, Popup Boxes](#section-title)\n",
    "\n",
    "Three types of popups:\n",
    "- alert - Message with an OK button\n",
    "- confirm - Message with a CANCEL,OK choice\n",
    "- prompt - Message with Input box"
   ]
  },
  {
   "cell_type": "code",
   "execution_count": 26,
   "metadata": {},
   "outputs": [
    {
     "data": {
      "text/html": [
       "<html><head><script>\n",
       "\n",
       "// alert\n",
       "alert(\"Now I am demonstrating alert feature\")\n",
       "\n",
       "// confirm\n",
       "var decision=confirm(\"Confirm if you understand this?\")\n",
       "document.write(\"you choose: \" + decision + \" <br/>\")\n",
       "\n",
       "// prompt\n",
       "var numOfStars=parseInt(prompt(\"Do you like it, how many starts?\"))\n",
       "document.write(\"you feedback: \" + numOfStars + \" <br/>\")\n",
       "\n",
       "</script></head></html>\n"
      ],
      "text/plain": [
       "<IPython.core.display.HTML object>"
      ]
     },
     "metadata": {
      "text/html": {
       "isolated": true
      }
     },
     "output_type": "display_data"
    }
   ],
   "source": [
    "%%html --isolated\n",
    "<html><head><script>\n",
    "\n",
    "// alert\n",
    "alert(\"Now I am demonstrating alert feature\")\n",
    "\n",
    "// confirm\n",
    "var decision=confirm(\"Confirm if you understand this?\")\n",
    "document.write(\"you choose: \" + decision + \" <br/>\")\n",
    "\n",
    "// prompt: parseInt helps to convert string to integer\n",
    "var numOfStars=parseInt(prompt(\"Do you like it, how many starts?\"))\n",
    "document.write(\"you feedback: \" + numOfStars + \" <br/>\")\n",
    "\n",
    "</script></head></html>"
   ]
  },
  {
   "cell_type": "markdown",
   "metadata": {},
   "source": [
    "<a id=\"section_5\"></a>\n",
    "## [5, Conditional Statements](#section-title)"
   ]
  },
  {
   "cell_type": "code",
   "execution_count": 34,
   "metadata": {},
   "outputs": [
    {
     "data": {
      "text/html": [
       "<html><head><script>\n",
       "\n",
       "// if-else if -else ladder\n",
       "var x=100\n",
       "if(x < 0) {\n",
       "    document.write('x is negative<br/>')\n",
       "} else if ( x == 0) {\n",
       "    document.write('x is null<br/>')\n",
       "} else {\n",
       "    document.write('x is positive<br/>')\n",
       "}\n",
       "\n",
       "// switch case -- does type check\n",
       "var intVar=1000\n",
       "switch(intVar) {\n",
       "    case 100:\n",
       "            document.write('it matches an integer literal with an value of 100 <br/>')\n",
       "            break;\n",
       "    case \"abc\":\n",
       "           document.write('it matches a string literal <br/>')\n",
       "            break;\n",
       "    case \"1000\":\n",
       "           document.write('it matches a string literal with value 1000 <br/>')\n",
       "            break;\n",
       "    case 1000:\n",
       "            document.write('it matches an integer literal with an value of 1000 <br/>')\n",
       "            break;    \n",
       "    default:\n",
       "           document.write('not sure <br/>')\n",
       "     \n",
       "}\n",
       "\n",
       "</script></head></html>\n"
      ],
      "text/plain": [
       "<IPython.core.display.HTML object>"
      ]
     },
     "metadata": {
      "text/html": {
       "isolated": true
      }
     },
     "output_type": "display_data"
    }
   ],
   "source": [
    "%%html --isolated\n",
    "<html><head><script>\n",
    "\n",
    "// if-else if -else ladder\n",
    "var x=100\n",
    "if(x < 0) {\n",
    "    document.write('x is negative<br/>')\n",
    "} else if ( x == 0) {\n",
    "    document.write('x is null<br/>')\n",
    "} else {\n",
    "    document.write('x is positive<br/>')\n",
    "}\n",
    "\n",
    "// switch case -- does type check\n",
    "var intVar=1000\n",
    "switch(intVar) {\n",
    "    case 100:\n",
    "            document.write('it matches an integer literal with an value of 100 <br/>')\n",
    "            break;\n",
    "    case \"abc\":\n",
    "           document.write('it matches a string literal <br/>')\n",
    "            break;\n",
    "    case \"1000\":\n",
    "           document.write('it matches a string literal with value 1000 <br/>')\n",
    "            break;\n",
    "    case 1000:\n",
    "            document.write('it matches an integer literal with an value of 1000 <br/>')\n",
    "            break;    \n",
    "    default:\n",
    "           document.write('not sure <br/>')\n",
    "     \n",
    "}\n",
    "\n",
    "</script></head></html>"
   ]
  },
  {
   "cell_type": "markdown",
   "metadata": {},
   "source": [
    "<a id=\"section_6\"></a>\n",
    "## [6, Loops](#section-title)"
   ]
  },
  {
   "cell_type": "code",
   "execution_count": 39,
   "metadata": {},
   "outputs": [
    {
     "data": {
      "text/html": [
       "<html><head><script>\n",
       "\n",
       "\n",
       "// for: traditional loop\n",
       "for(var a=0; a < 10; a+=2) {\n",
       "    document.write(a + \",\")\n",
       "}\n",
       "\n",
       "// while: traditional\n",
       "var a=10; document.write('<br/>')\n",
       "while (a > 0) {\n",
       "    a-=1\n",
       "    document.write(a+\",\")\n",
       "}\n",
       "\n",
       "// do-while: traditional\n",
       "var a=0;document.write('<br/>')    \n",
       "do {\n",
       "    document.write('post condition check <br/>')\n",
       "}while(a>0)\n",
       "\n",
       "</script></head></html>\n"
      ],
      "text/plain": [
       "<IPython.core.display.HTML object>"
      ]
     },
     "metadata": {
      "text/html": {
       "isolated": true
      }
     },
     "output_type": "display_data"
    }
   ],
   "source": [
    "%%html --isolated\n",
    "<html><head><script>\n",
    "\n",
    "\n",
    "// for: traditional loop\n",
    "for(var a=0; a < 10; a+=2) {\n",
    "    document.write(a + \",\")\n",
    "}\n",
    "\n",
    "// while: traditional\n",
    "var a=10; document.write('<br/>')\n",
    "while (a > 0) {\n",
    "    a-=1\n",
    "    document.write(a+\",\")\n",
    "}\n",
    "\n",
    "// do-while: traditional\n",
    "var a=0;document.write('<br/>')    \n",
    "do {\n",
    "    document.write('post condition check <br/>')\n",
    "}while(a>0)\n",
    "\n",
    "</script></head></html>"
   ]
  },
  {
   "cell_type": "markdown",
   "metadata": {},
   "source": [
    "<a id=\"section_7\"></a>\n",
    "## [7 Functions](#section-title)"
   ]
  },
  {
   "cell_type": "code",
   "execution_count": 49,
   "metadata": {},
   "outputs": [
    {
     "data": {
      "text/html": [
       "<html><head><script>\n",
       "\n",
       "// function with args and return values\n",
       "function sum(a,b){\n",
       "    return a + b\n",
       "}\n",
       "document.write('sum of 2,3: ' + sum(2,3) + '<br/>')\n",
       "\n",
       "// closures:  functions that accept/return other functions\n",
       "//            functions can access the state of the outer variables\n",
       "function counter(init) {\n",
       "    var value=init\n",
       "    function next() {\n",
       "        value+=1\n",
       "        return value\n",
       "    }\n",
       "    return next\n",
       "}\n",
       "var c=counter(5)\n",
       "document.write('c: ' + c() + '<br/>')\n",
       "document.write('c: ' + c() + '<br/>')\n",
       "var d=counter(5)\n",
       "document.write('c: ' + c() + '<br/>')\n",
       "document.write('d: ' + d() + '<br/>')\n",
       "document.write('c: ' + c() + '<br/>')\n",
       "document.write('d: ' + d() + '<br/>')\n",
       "</script></head></html>\n"
      ],
      "text/plain": [
       "<IPython.core.display.HTML object>"
      ]
     },
     "metadata": {
      "text/html": {
       "isolated": true
      }
     },
     "output_type": "display_data"
    }
   ],
   "source": [
    "%%html --isolated\n",
    "<html><head><script>\n",
    "\n",
    "// function with args and return values\n",
    "function sum(a,b){\n",
    "    return a + b\n",
    "}\n",
    "document.write('sum of 2,3: ' + sum(2,3) + '<br/>')\n",
    "\n",
    "// closures:  functions that accept/return other functions\n",
    "//            functions can access the state of the outer variables\n",
    "function counter(init) {\n",
    "    var value=init\n",
    "    function next() {\n",
    "        value+=1\n",
    "        return value\n",
    "    }\n",
    "    return next\n",
    "}\n",
    "var c=counter(5)\n",
    "document.write('c: ' + c() + '<br/>')\n",
    "document.write('c: ' + c() + '<br/>')\n",
    "var d=counter(5)\n",
    "document.write('c: ' + c() + '<br/>')\n",
    "document.write('d: ' + d() + '<br/>')\n",
    "document.write('c: ' + c() + '<br/>')\n",
    "document.write('d: ' + d() + '<br/>')\n",
    "</script></head></html>"
   ]
  },
  {
   "cell_type": "markdown",
   "metadata": {},
   "source": [
    "<a id=\"section_8\"></a>\n",
    "## [8, Events](#section-title)\n",
    "\n",
    "Events are raised by browser mostly due to user activity.\n",
    "Using Js we can handle those events and perform actions like:\n",
    "- validating the inputs\n",
    "- submit a backend request to server\n",
    "- change the html content dynamically"
   ]
  },
  {
   "cell_type": "code",
   "execution_count": 67,
   "metadata": {},
   "outputs": [
    {
     "data": {
      "text/html": [
       "<html><head><script>\n",
       "// onMouseOver/onMouseOut event demo\n",
       "function handleMouseOverEvent(e) {\n",
       "    // change style of the element\n",
       "    e.style.color=\"red\"\n",
       "    e.style.backgroundColor=\"yellow\"    \n",
       "    // change the \n",
       "    e.innerHTML=\"MOUSE OVER\"\n",
       "    \n",
       "}\n",
       "function handleMouseOutEvent(e) {\n",
       "    // change style of the element\n",
       "    e.style.color=\"yellow\"\n",
       "    e.style.backgroundColor=\"blue\"\n",
       "    // change the \n",
       "    e.innerHTML=\"MOUSE OUT\"\n",
       "}\n",
       "</script>\n",
       "\n",
       "<body>\n",
       "<p><b> HOVER THE MOUSE AROUND BELOW ELEMENT </b></p>\n",
       "<p onmouseover=\"handleMouseOverEvent(this)\" onmouseout=\"handleMouseOutEvent(this)\">MOUSE OVER/OUT</p>\n",
       "</body>\n",
       "</head></html>\n"
      ],
      "text/plain": [
       "<IPython.core.display.HTML object>"
      ]
     },
     "metadata": {
      "text/html": {
       "isolated": true
      }
     },
     "output_type": "display_data"
    }
   ],
   "source": [
    "%%html --isolated\n",
    "<html><head><script>\n",
    "// onMouseOver/onMouseOut event demo\n",
    "function handleMouseOverEvent(e) {\n",
    "    // change style of the element\n",
    "    e.style.color=\"red\"\n",
    "    e.style.backgroundColor=\"yellow\"    \n",
    "    // change the content\n",
    "    e.innerHTML=\"MOUSE OVER\"\n",
    "    \n",
    "}\n",
    "function handleMouseOutEvent(e) {\n",
    "    // change style of the element\n",
    "    e.style.color=\"yellow\"\n",
    "    e.style.backgroundColor=\"blue\"\n",
    "    // change the content\n",
    "    e.innerHTML=\"MOUSE OUT\"\n",
    "}\n",
    "</script>\n",
    "\n",
    "<body>\n",
    "<p><b> HOVER THE MOUSE AROUND BELOW ELEMENT </b></p>\n",
    "<p onmouseover=\"handleMouseOverEvent(this)\" onmouseout=\"handleMouseOutEvent(this)\">MOUSE OVER/OUT</p>\n",
    "</body>\n",
    "</head></html>"
   ]
  },
  {
   "cell_type": "code",
   "execution_count": 76,
   "metadata": {},
   "outputs": [
    {
     "data": {
      "text/html": [
       "<html><head><script>\n",
       "// onMouseOver/onMouseOut event demo\n",
       "function handleOnClickEvent() {\n",
       "    // acess the form content using document object\n",
       "    var n1=parseInt(document.calcForm.num1.value)\n",
       "    var n2=parseInt(document.calcForm.num2.value)\n",
       "    var z=document.calcForm.result\n",
       "    z.value=n1+n2\n",
       "    \n",
       "}\n",
       "</script>\n",
       "\n",
       "<body><form name=\"calcForm\">\n",
       "Number1: <input name=\"num1\" type=\"text\"/> <br/>\n",
       "Number2: <input name=\"num2\" type=\"text\"/> <br/>\n",
       " result: <input name=\"result\"  type=\"text\"/> <br/>\n",
       "    <input name=\"add\" type=\"button\" value=\"ADD\" onclick=\"handleOnClickEvent()\"/>\n",
       "</form></body>\n",
       "</head></html>\n"
      ],
      "text/plain": [
       "<IPython.core.display.HTML object>"
      ]
     },
     "metadata": {
      "text/html": {
       "isolated": true
      }
     },
     "output_type": "display_data"
    }
   ],
   "source": [
    "%%html --isolated\n",
    "<html><head><script>\n",
    "// onMouseOver/onMouseOut event demo\n",
    "function handleOnClickEvent() {\n",
    "    // acess the form content using document object\n",
    "    var n1=parseInt(document.calcForm.num1.value)\n",
    "    var n2=parseInt(document.calcForm.num2.value)\n",
    "    var z=document.calcForm.result\n",
    "    z.value=n1+n2\n",
    "    \n",
    "}\n",
    "</script>\n",
    "\n",
    "<body><form name=\"calcForm\">\n",
    "Number1: <input name=\"num1\" type=\"text\"/> <br/>\n",
    "Number2: <input name=\"num2\" type=\"text\"/> <br/>\n",
    " result: <input name=\"result\"  type=\"text\"/> <br/>\n",
    "    <input name=\"add\" type=\"button\" value=\"ADD\" onclick=\"handleOnClickEvent()\"/>\n",
    "</form></body>\n",
    "</head></html>"
   ]
  },
  {
   "cell_type": "code",
   "execution_count": 77,
   "metadata": {},
   "outputs": [
    {
     "data": {
      "text/html": [
       "<html><head><script>\n",
       "// onMouseOver/onMouseOut event demo\n",
       "function handleOnClickEvent(el) {\n",
       "    // acess the form content using document object\n",
       "    var n1=parseInt(document.calcForm.num1.value)\n",
       "    var n2=parseInt(document.calcForm.num2.value)\n",
       "    var z=document.calcForm.result\n",
       "    switch(el.value) {\n",
       "        case \"ADD\": z.value=n1+n2; break;\n",
       "        case \"SUB\": z.value=n1-n2; break;\n",
       "        case \"MUL\": z.value=n1*n2; break;\n",
       "        case \"DIV\": z.value=n1/n2; break;\n",
       "        default: z.value=\"error\"\n",
       "    }\n",
       "    \n",
       "}\n",
       "</script>\n",
       "\n",
       "<body><form name=\"calcForm\">\n",
       "Number1: <input name=\"num1\" type=\"text\"/> <br/>\n",
       "Number2: <input name=\"num2\" type=\"text\"/> <br/>\n",
       " result: <input name=\"result\"  type=\"text\"/> <br/>\n",
       "    <input name=\"add\" type=\"button\" value=\"ADD\" onclick=\"handleOnClickEvent(this)\"/>\n",
       "    <input name=\"sub\" type=\"button\" value=\"SUB\" onclick=\"handleOnClickEvent(this)\"/>\n",
       "    <input name=\"mul\" type=\"button\" value=\"MUL\" onclick=\"handleOnClickEvent(this)\"/>\n",
       "    <input name=\"div\" type=\"button\" value=\"DIV\" onclick=\"handleOnClickEvent(this)\"/>\n",
       "</form></body>\n",
       "</head></html>\n"
      ],
      "text/plain": [
       "<IPython.core.display.HTML object>"
      ]
     },
     "metadata": {
      "text/html": {
       "isolated": true
      }
     },
     "output_type": "display_data"
    }
   ],
   "source": [
    "%%html --isolated\n",
    "<html><head><script>\n",
    "// onMouseOver/onMouseOut event demo\n",
    "function handleOnClickEvent(el) {\n",
    "    // acess the form content using document object\n",
    "    var n1=parseInt(document.calcForm.num1.value)\n",
    "    var n2=parseInt(document.calcForm.num2.value)\n",
    "    var z=document.calcForm.result\n",
    "    switch(el.value) {\n",
    "        case \"ADD\": z.value=n1+n2; break;\n",
    "        case \"SUB\": z.value=n1-n2; break;\n",
    "        case \"MUL\": z.value=n1*n2; break;\n",
    "        case \"DIV\": z.value=n1/n2; break;\n",
    "        default: z.value=\"error\"\n",
    "    }\n",
    "    \n",
    "}\n",
    "</script>\n",
    "\n",
    "<body><form name=\"calcForm\">\n",
    "Number1: <input name=\"num1\" type=\"text\"/> <br/>\n",
    "Number2: <input name=\"num2\" type=\"text\"/> <br/>\n",
    " result: <input name=\"result\"  type=\"text\"/> <br/>\n",
    "    <input name=\"add\" type=\"button\" value=\"ADD\" onclick=\"handleOnClickEvent(this)\"/>\n",
    "    <input name=\"sub\" type=\"button\" value=\"SUB\" onclick=\"handleOnClickEvent(this)\"/>\n",
    "    <input name=\"mul\" type=\"button\" value=\"MUL\" onclick=\"handleOnClickEvent(this)\"/>\n",
    "    <input name=\"div\" type=\"button\" value=\"DIV\" onclick=\"handleOnClickEvent(this)\"/>\n",
    "</form></body>\n",
    "</head></html>"
   ]
  },
  {
   "cell_type": "code",
   "execution_count": 81,
   "metadata": {},
   "outputs": [
    {
     "data": {
      "text/html": [
       "<html><head><script>\n",
       "// onMouseOver/onMouseOut event demo\n",
       "function handleOnChangeEvent(color) {\n",
       "    // change the background color\n",
       "    document.bgColor=color\n",
       "        \n",
       "}\n",
       "</script>\n",
       "\n",
       "<body>\n",
       "<select onchange=\"handleOnChangeEvent(this.value)\">\n",
       "    <option value=\"\">Choose any color</option>\n",
       "    <option value=\"red\">RED</option>\n",
       "    <option value=\"blue\">BLUE</option>\n",
       "    <option value=\"green\">GREEN</option>\n",
       "</select>\n",
       "</body>\n",
       "</head></html>\n"
      ],
      "text/plain": [
       "<IPython.core.display.HTML object>"
      ]
     },
     "metadata": {
      "text/html": {
       "isolated": true
      }
     },
     "output_type": "display_data"
    }
   ],
   "source": [
    "%%html --isolated\n",
    "<html><head><script>\n",
    "// onMouseOver/onMouseOut event demo\n",
    "function handleOnChangeEvent(color) {\n",
    "    // change the background color\n",
    "    document.bgColor=color\n",
    "        \n",
    "}\n",
    "</script>\n",
    "\n",
    "<body>\n",
    "<select onchange=\"handleOnChangeEvent(this.value)\">\n",
    "    <option value=\"\">Choose any color</option>\n",
    "    <option value=\"red\">RED</option>\n",
    "    <option value=\"blue\">BLUE</option>\n",
    "    <option value=\"green\">GREEN</option>\n",
    "</select>\n",
    "</body>\n",
    "</head></html>"
   ]
  },
  {
   "cell_type": "markdown",
   "metadata": {},
   "source": [
    "<a id=\"section_9\"></a>\n",
    "## [9, Built-In Objects](#section-title)\n",
    "\n"
   ]
  },
  {
   "cell_type": "code",
   "execution_count": 8,
   "metadata": {},
   "outputs": [
    {
     "data": {
      "text/html": [
       "<html><head><script>\n",
       "\n",
       "var x = 'Hellow World'\n",
       "\n",
       "// String methods\n",
       "document.write('lenght: ' + x.length + ' <br/>')\n",
       "document.write('indexOf: ' + x.indexOf('W') + ' <br/>')\n",
       "document.write('lastIndexOf: ' + x.lastIndexOf('o') + ' <br/>')\n",
       "document.write('toUppderCase: ' + x.toUpperCase() + ' <br/>')\n",
       "document.write('toLowerCase: ' + x.toLowerCase() + ' <br/>')\n",
       "document.write('replace: ' + x.replace('Hellow','Hi'))\n",
       "</script></head></html>\n"
      ],
      "text/plain": [
       "<IPython.core.display.HTML object>"
      ]
     },
     "metadata": {
      "text/html": {
       "isolated": true
      }
     },
     "output_type": "display_data"
    }
   ],
   "source": [
    "%%html --isolated\n",
    "<html><head><script>\n",
    "\n",
    "var x = 'Hellow World'\n",
    "\n",
    "// String methods\n",
    "document.write('lenght: ' + x.length + ' <br/>')\n",
    "document.write('indexOf: ' + x.indexOf('W') + ' <br/>')\n",
    "document.write('lastIndexOf: ' + x.lastIndexOf('o') + ' <br/>')\n",
    "document.write('toUppderCase: ' + x.toUpperCase() + ' <br/>')\n",
    "document.write('toLowerCase: ' + x.toLowerCase() + ' <br/>')\n",
    "document.write('replace: ' + x.replace('Hellow','Hi'))\n",
    "</script></head></html>"
   ]
  },
  {
   "cell_type": "code",
   "execution_count": 14,
   "metadata": {},
   "outputs": [
    {
     "data": {
      "text/html": [
       "<html><head><script>\n",
       "\n",
       "// Boolean operations\n",
       "// TRUE VALUES:\n",
       "var t1 = new Boolean(1)\n",
       "var t2 = new Boolean(true)\n",
       "var t3 = new Boolean(\"some string\")\n",
       "document.write('TRUE VALUES:',t1,t2,t3,'<br/>')    \n",
       "// FALSE VALUES:\n",
       "var f1 = new Boolean()\n",
       "var f2 = new Boolean(0)\n",
       "var f3 = new Boolean(false)\n",
       "var f4 = new Boolean(\"\")\n",
       "var f5 = new Boolean(NaN)\n",
       "var f6 = new Boolean(null)\n",
       "document.write('FALSE VALUES:',f1,f2,f3,f4,f5,f6,'<br/>')    \n",
       "\n",
       "\n",
       "</script></head></html>\n"
      ],
      "text/plain": [
       "<IPython.core.display.HTML object>"
      ]
     },
     "metadata": {
      "text/html": {
       "isolated": true
      }
     },
     "output_type": "display_data"
    }
   ],
   "source": [
    "%%html --isolated\n",
    "<html><head><script>\n",
    "\n",
    "// Boolean operations\n",
    "// TRUE VALUES:\n",
    "var t1 = new Boolean(1)\n",
    "var t2 = new Boolean(true)\n",
    "var t3 = new Boolean(\"some string\")\n",
    "document.write('TRUE VALUES:',t1,t2,t3,'<br/>')    \n",
    "// FALSE VALUES:\n",
    "var f1 = new Boolean()\n",
    "var f2 = new Boolean(0)\n",
    "var f3 = new Boolean(false)\n",
    "var f4 = new Boolean(\"\")\n",
    "var f5 = new Boolean(NaN)\n",
    "var f6 = new Boolean(null)\n",
    "document.write('FALSE VALUES:',f1,f2,f3,f4,f5,f6,'<br/>')    \n",
    "\n",
    "\n",
    "</script></head></html>"
   ]
  },
  {
   "cell_type": "code",
   "execution_count": 22,
   "metadata": {},
   "outputs": [
    {
     "data": {
      "text/html": [
       "<html><head><script>\n",
       "\n",
       "// Math operations\n",
       "document.write('PI: '+ Math.PI + \" <br/>\")\n",
       "document.write('sqrt(256): '+ Math.sqrt(256) + \" <br/>\")\n",
       "document.write('pow(2,10): '+ Math.pow(2,10) + \" <br/>\")\n",
       "document.write('floor(5.8): '+ Math.floor(5.8) + \" <br/>\")\n",
       "document.write('ceil(5.8):'+ Math.ceil(5.8) + \" <br/>\")\n",
       "document.write('round(5.6): '+ Math.round(5.6) + \" <br/>\")\n",
       "document.write('round(5.5): '+ Math.round(5.5) + \" <br/>\")\n",
       "document.write('round(5.4): '+ Math.round(5.4) + \" <br/>\")\n",
       "\n",
       "\n",
       "</script></head></html>\n"
      ],
      "text/plain": [
       "<IPython.core.display.HTML object>"
      ]
     },
     "metadata": {
      "text/html": {
       "isolated": true
      }
     },
     "output_type": "display_data"
    }
   ],
   "source": [
    "%%html --isolated\n",
    "<html><head><script>\n",
    "\n",
    "// Math operations\n",
    "document.write('PI: '+ Math.PI + \" <br/>\")\n",
    "document.write('sqrt(256): '+ Math.sqrt(256) + \" <br/>\")\n",
    "document.write('pow(2,10): '+ Math.pow(2,10) + \" <br/>\")\n",
    "document.write('floor(5.8): '+ Math.floor(5.8) + \" <br/>\")\n",
    "document.write('ceil(5.8):'+ Math.ceil(5.8) + \" <br/>\")\n",
    "document.write('round(5.6): '+ Math.round(5.6) + \" <br/>\")\n",
    "document.write('round(5.5): '+ Math.round(5.5) + \" <br/>\")\n",
    "document.write('round(5.4): '+ Math.round(5.4) + \" <br/>\")\n",
    "\n",
    "\n",
    "</script></head></html>"
   ]
  },
  {
   "cell_type": "code",
   "execution_count": 28,
   "metadata": {},
   "outputs": [
    {
     "data": {
      "text/html": [
       "<html><head><script>\n",
       "\n",
       "// ARRAY CREATION - METHOD1\n",
       "var arr1 = [1,\"two\",3.5,false]\n",
       "// ARRAY CREATION - METHOD2\n",
       "var arr2 = new Array(1,\"two\",3.5,false)\n",
       "// ARRAY CREATION - METHOD3\n",
       "var arr3 = new Array()\n",
       "arr3[0]=1; arr3[1]=\"two\"; arr3[2]=3.5; arr3[3]=false;\n",
       "\n",
       "document.write(arr1,\"<br/>\")\n",
       "document.write(arr2,\"<br/>\")\n",
       "document.write(arr3,\"<br/>\")\n",
       "\n",
       "// ARRAY CONCAT\n",
       "document.write(arr1.concat(arr2,true,\"some filler\",arr3),'<br/>')\n",
       "// ARRAY REVERSE\n",
       "document.write(arr1.reverse(),'<br/>')\n",
       "// ARRAY JOIN\n",
       "document.write(arr1.join('*'),'<br/>')\n",
       "\n",
       "</script></head></html>\n"
      ],
      "text/plain": [
       "<IPython.core.display.HTML object>"
      ]
     },
     "metadata": {
      "text/html": {
       "isolated": true
      }
     },
     "output_type": "display_data"
    }
   ],
   "source": [
    "%%html --isolated\n",
    "<html><head><script>\n",
    "\n",
    "// ARRAY CREATION - METHOD1\n",
    "var arr1 = [1,\"two\",3.5,false]\n",
    "// ARRAY CREATION - METHOD2\n",
    "var arr2 = new Array(1,\"two\",3.5,false)\n",
    "// ARRAY CREATION - METHOD3\n",
    "var arr3 = new Array()\n",
    "arr3[0]=1; arr3[1]=\"two\"; arr3[2]=3.5; arr3[3]=false;\n",
    "\n",
    "document.write(arr1,\"<br/>\")\n",
    "document.write(arr2,\"<br/>\")\n",
    "document.write(arr3,\"<br/>\")\n",
    "\n",
    "// ARRAY CONCAT\n",
    "document.write(arr1.concat(arr2,true,\"some filler\",arr3),'<br/>')\n",
    "// ARRAY REVERSE\n",
    "document.write(arr1.reverse(),'<br/>')\n",
    "// ARRAY JOIN\n",
    "document.write(arr1.join('*'),'<br/>')\n",
    "\n",
    "</script></head></html>"
   ]
  },
  {
   "cell_type": "code",
   "execution_count": 30,
   "metadata": {},
   "outputs": [
    {
     "data": {
      "text/html": [
       "<html><head><script>\n",
       "\n",
       "// DATE OBJECT\n",
       "var now = new Date()\n",
       "\n",
       "document.write(now,'<br/>')\n",
       "document.write(now.toLocaleTimeString(),'<br/>')\n",
       "document.write(now.toLocaleDateString(),'<br/>')\n",
       "document.write(now.toLocaleString(),'<br/>')\n",
       "\n",
       "\n",
       "\n",
       "</script></head></html>\n"
      ],
      "text/plain": [
       "<IPython.core.display.HTML object>"
      ]
     },
     "metadata": {
      "text/html": {
       "isolated": true
      }
     },
     "output_type": "display_data"
    }
   ],
   "source": [
    "%%html --isolated\n",
    "<html><head><script>\n",
    "\n",
    "// DATE OBJECT\n",
    "var now = new Date()\n",
    "\n",
    "document.write(now,'<br/>')\n",
    "document.write(now.toLocaleTimeString(),'<br/>')\n",
    "document.write(now.toLocaleDateString(),'<br/>')\n",
    "document.write(now.toLocaleString(),'<br/>')\n",
    "\n",
    "\n",
    "\n",
    "</script></head></html>"
   ]
  },
  {
   "cell_type": "code",
   "execution_count": 42,
   "metadata": {},
   "outputs": [
    {
     "data": {
      "text/html": [
       "<html><head><script>\n",
       "\n",
       "// EXAMPLE TO REFRESH TIME CONTINUOUSLY\n",
       "\n",
       "function startTimer() {\n",
       "    displayTs()\n",
       "    setInterval(displayTs,500)\n",
       "}\n",
       "function displayTs(){\n",
       "    var d = new Date\n",
       "    var ts = d.toLocaleString()\n",
       "    document.getElementById(\"para1\").innerHTML = ts\n",
       "}\n",
       "\n",
       "</script>\n",
       "<body onload=\"startTimer()\">\n",
       "Current Time:\n",
       "<p id=\"para1\">\n",
       "</p>\n",
       "</body>\n",
       "</head></html>\n"
      ],
      "text/plain": [
       "<IPython.core.display.HTML object>"
      ]
     },
     "metadata": {
      "text/html": {
       "isolated": true
      }
     },
     "output_type": "display_data"
    }
   ],
   "source": [
    "%%html --isolated\n",
    "<html><head><script>\n",
    "\n",
    "// EXAMPLE TO REFRESH TIME CONTINUOUSLY\n",
    "\n",
    "function startTimer() {\n",
    "    displayTs()\n",
    "    setInterval(displayTs,500)\n",
    "}\n",
    "function displayTs(){\n",
    "    var d = new Date\n",
    "    var ts = d.toLocaleString()\n",
    "    document.getElementById(\"para1\").innerHTML = ts\n",
    "}\n",
    "\n",
    "</script>\n",
    "<body onload=\"startTimer()\">\n",
    "Current Time:\n",
    "<p id=\"para1\">\n",
    "</p>\n",
    "</body>\n",
    "</head></html>"
   ]
  },
  {
   "cell_type": "markdown",
   "metadata": {},
   "source": [
    "<a id=\"section_10\"></a>\n",
    "## [10, Err Handling & Debugging](#section-title)\n",
    "All the CompileTime/RunTime erors can be seen on console logs (RIGHT CLICK -> INSPECT -> CONSOLE TAB).\n",
    "Runtime errors can be handling using  try->catch->finally block.\n",
    "Errors(any js object) can be thrown using throw method"
   ]
  },
  {
   "cell_type": "code",
   "execution_count": 28,
   "metadata": {},
   "outputs": [
    {
     "data": {
      "text/html": [
       "<html><head><script>\n",
       "\n",
       "// TRY - CATCH -FINALLY example\n",
       "\n",
       "function validateAge() {\n",
       "    try {\n",
       "        var ageInput = document.getElementById(\"age\").value;\n",
       "        var age = parseInt(ageInput)\n",
       "        if( isNaN(age)) {\n",
       "            throw \"Invalid Input!\"\n",
       "        } else if (age <= 0) {\n",
       "            throw \"Aget can't be -ve\"\n",
       "        }else if (age > 100) {\n",
       "            throw \"Age can't be more than 100\"\n",
       "        } \n",
       "        document.getElementById('result').innerHTML = (\"Age:\" + age + \"<br/>\")\n",
       "        \n",
       "    } catch(errObj) {\n",
       "        document.getElementById('result').innerHTML += (\"Validation failed:\" + errObj + \"<br/>\")\n",
       "    } finally {\n",
       "        document.getElementById('result').innerHTML += \"*****************\"\n",
       "    }\n",
       "}\n",
       "\n",
       "</script>\n",
       "<body>\n",
       "\n",
       "Enter Age: <input type=\"text\" id='age'/>\n",
       "<input type=\"button\" onclick=\"validateAge()\" value=\"validate\"/>    \n",
       "<p id=\"result\"/>\n",
       "</body>\n",
       "</head></html>\n"
      ],
      "text/plain": [
       "<IPython.core.display.HTML object>"
      ]
     },
     "metadata": {
      "text/html": {
       "isolated": true
      }
     },
     "output_type": "display_data"
    }
   ],
   "source": [
    "%%html --isolated\n",
    "<html><head><script>\n",
    "\n",
    "// TRY - CATCH -FINALLY example\n",
    "\n",
    "function validateAge() {\n",
    "    try {\n",
    "        var ageInput = document.getElementById(\"age\").value;\n",
    "        var age = parseInt(ageInput)\n",
    "        if( isNaN(age)) {\n",
    "            throw \"Invalid Input!\"\n",
    "        } else if (age <= 0) {\n",
    "            throw \"Aget can't be -ve\"\n",
    "        }else if (age > 100) {\n",
    "            throw \"Age can't be more than 100\"\n",
    "        } \n",
    "        document.getElementById('result').innerHTML = (\"Age:\" + age + \"<br/>\")\n",
    "        \n",
    "    } catch(errObj) {\n",
    "        document.getElementById('result').innerHTML += (\"Validation failed:\" + errObj + \"<br/>\")\n",
    "    } finally {\n",
    "        document.getElementById('result').innerHTML += \"*****************\"\n",
    "    }\n",
    "}\n",
    "\n",
    "</script>\n",
    "<body>\n",
    "\n",
    "Enter Age: <input type=\"text\" id='age'/>\n",
    "<input type=\"button\" onclick=\"validateAge()\" value=\"validate\"/>    \n",
    "<p id=\"result\"/>\n",
    "</body>\n",
    "</head></html>"
   ]
  },
  {
   "cell_type": "markdown",
   "metadata": {},
   "source": [
    "<a id=\"section_11\"></a>\n",
    "## [11, HTML DOM](#section-title)\n",
    "\n",
    "### HTML Elements can be searched by using document.get* methods\n",
    "- getElementById\n",
    "- getElementBYTagName\n",
    "- getElementByClassName\n",
    "\n",
    "### Attribute of the elements can be  modified such as..\n",
    "- align\n",
    "- src (image)\n",
    "- style.color\n",
    "- style.backgroundColor\n",
    "\n",
    "### Elements can be added/created/modified\n"
   ]
  },
  {
   "cell_type": "code",
   "execution_count": 37,
   "metadata": {},
   "outputs": [
    {
     "data": {
      "text/html": [
       "<html><head><script>\n",
       "\n",
       "// DOM finding and updating the properites\n",
       "\n",
       "function updateNodes(){\n",
       "     // find elements by id\n",
       "     var p = document.getElementById('para1')\n",
       "     // modify its atrributes\n",
       "     p.align='center'\n",
       "     p.style.color='red'\n",
       "     p.style.backgroundColor='yellow'\n",
       "    \n",
       "}\n",
       "</script>\n",
       "<body>\n",
       "<p id=\"para1\"> THIS IS PARAGRAPH ONE<br/>THE END </p>\n",
       "<p id=\"para2\"> THIS IS PARAGRAPH TWO<br/>THE END </p>\n",
       "<input type=\"button\" onclick=\"updateNodes()\" value=\"format\"/>\n",
       "</body>\n",
       "</head></html>\n"
      ],
      "text/plain": [
       "<IPython.core.display.HTML object>"
      ]
     },
     "metadata": {
      "text/html": {
       "isolated": true
      }
     },
     "output_type": "display_data"
    }
   ],
   "source": [
    "%%html --isolated\n",
    "<html><head><script>\n",
    "\n",
    "// DOM finding and updating the properites\n",
    "\n",
    "function updateNodes(){\n",
    "     // find elements by id\n",
    "     var p = document.getElementById('para1')\n",
    "     // modify its atrributes\n",
    "     p.align='center'\n",
    "     p.style.color='red'\n",
    "     p.style.backgroundColor='yellow'\n",
    "    \n",
    "}\n",
    "</script>\n",
    "<body>\n",
    "<p id=\"para1\"> THIS IS PARAGRAPH ONE<br/>THE END </p>\n",
    "<p id=\"para2\"> THIS IS PARAGRAPH TWO<br/>THE END </p>\n",
    "<input type=\"button\" onclick=\"updateNodes()\" value=\"format\"/>\n",
    "</body>\n",
    "</head></html>"
   ]
  },
  {
   "cell_type": "markdown",
   "metadata": {},
   "source": [
    "### Event Listeners\n",
    "Event listeners can be registered using API methods like <b><i>addEventListener</i></b>\n",
    "\n"
   ]
  },
  {
   "cell_type": "code",
   "execution_count": 47,
   "metadata": {},
   "outputs": [
    {
     "data": {
      "text/html": [
       "<html><head><script>\n",
       "\n",
       "// Function to find required elements and register\n",
       "function registerEventHandlers() {\n",
       "        document.getElementById('button1').addEventListener(\"click\",handleButtonClick)\n",
       "        // function that does event handling\n",
       "        function handleButtonClick() {\n",
       "            alert('click event found')\n",
       "        }\n",
       "}\n",
       "// Function to register onload event\n",
       "window.addEventListener('load',registerEventHandlers)\n",
       "\n",
       "\n",
       "</script>\n",
       "<body>\n",
       "<input type=\"button\" value=\"clickme\" id='button1'/>\n",
       "</body>\n",
       "</head></html>\n"
      ],
      "text/plain": [
       "<IPython.core.display.HTML object>"
      ]
     },
     "metadata": {
      "text/html": {
       "isolated": true
      }
     },
     "output_type": "display_data"
    }
   ],
   "source": [
    "%%html --isolated\n",
    "<html><head><script>\n",
    "\n",
    "// Function to find required elements and register\n",
    "function registerEventHandlers() {\n",
    "        document.getElementById('button1').addEventListener(\"click\",handleButtonClick)\n",
    "        // function that does event handling\n",
    "        function handleButtonClick() {\n",
    "            alert('click event found')\n",
    "        }\n",
    "}\n",
    "// Function to register onload event\n",
    "window.addEventListener('load',registerEventHandlers)\n",
    "\n",
    "\n",
    "</script>\n",
    "<body>\n",
    "<input type=\"button\" value=\"clickme\" id='button1'/>\n",
    "</body>\n",
    "</head></html>"
   ]
  },
  {
   "cell_type": "code",
   "execution_count": 52,
   "metadata": {},
   "outputs": [
    {
     "data": {
      "text/html": [
       "<html><head><script>\n",
       "\n",
       "// CREATE AND ADD TEXT NODE\n",
       "function addTextNode(parent,text) {\n",
       "    var child=document.createElement('p');\n",
       "    var text=document.createTextNode(text)\n",
       "    child.appendChild(text)\n",
       "    parent.appendChild(child)\n",
       "}\n",
       "var counter=0\n",
       "function handleAddClick() {\n",
       "    var parent = document.getElementById('text')\n",
       "    addTextNode(parent,'CHILD NODE:' + counter)\n",
       "    counter++\n",
       "}\n",
       "function handleDelClick() {\n",
       "    var parent = document.getElementById('text')\n",
       "    var lastChild = document.getElementById('text').lastChild\n",
       "    if(lastChild) {\n",
       "        parent.removeChild(lastChild)\n",
       "        counter--\n",
       "    }\n",
       "}\n",
       "\n",
       "</script>\n",
       "<body>\n",
       "<input type=\"button\" onclick=\"handleAddClick()\" value=\"add\" id='add'/>\n",
       "<input type=\"button\" onclick=\"handleDelClick()\" value=\"delete\" id='del'/>\n",
       "<div id=\"text\"></div>\n",
       "</body>\n",
       "\n",
       "</head></html>\n"
      ],
      "text/plain": [
       "<IPython.core.display.HTML object>"
      ]
     },
     "metadata": {
      "text/html": {
       "isolated": true
      }
     },
     "output_type": "display_data"
    }
   ],
   "source": [
    "%%html --isolated\n",
    "<html><head><script>\n",
    "\n",
    "// CREATE AND ADD TEXT NODE\n",
    "function addTextNode(parent,text) {\n",
    "    var child=document.createElement('p');\n",
    "    var text=document.createTextNode(text)\n",
    "    child.appendChild(text)\n",
    "    parent.appendChild(child)\n",
    "}\n",
    "var counter=0\n",
    "function handleAddClick() {\n",
    "    var parent = document.getElementById('text')\n",
    "    addTextNode(parent,'CHILD NODE:' + counter)\n",
    "    counter++\n",
    "}\n",
    "\n",
    "// FIND AND REMOVE CHILD\n",
    "function handleDelClick() {\n",
    "    var parent = document.getElementById('text')\n",
    "    var lastChild = document.getElementById('text').lastChild\n",
    "    if(lastChild) {\n",
    "        parent.removeChild(lastChild)\n",
    "        counter--\n",
    "    }\n",
    "}\n",
    "\n",
    "</script>\n",
    "<body>\n",
    "<input type=\"button\" onclick=\"handleAddClick()\" value=\"add\" id='add'/>\n",
    "<input type=\"button\" onclick=\"handleDelClick()\" value=\"delete\" id='del'/>\n",
    "<div id=\"text\"></div>\n",
    "</body>\n",
    "\n",
    "</head></html>"
   ]
  },
  {
   "cell_type": "code",
   "execution_count": null,
   "metadata": {},
   "outputs": [],
   "source": []
  },
  {
   "cell_type": "code",
   "execution_count": null,
   "metadata": {},
   "outputs": [],
   "source": []
  }
 ],
 "metadata": {
  "kernelspec": {
   "display_name": "Python 3",
   "language": "python",
   "name": "python3"
  },
  "language_info": {
   "codemirror_mode": {
    "name": "ipython",
    "version": 3
   },
   "file_extension": ".py",
   "mimetype": "text/x-python",
   "name": "python",
   "nbconvert_exporter": "python",
   "pygments_lexer": "ipython3",
   "version": "3.7.3"
  }
 },
 "nbformat": 4,
 "nbformat_minor": 2
}
