{
 "cells": [
  {
   "cell_type": "markdown",
   "metadata": {},
   "source": [
    "#  JavaScript Fundamentals Hands on\n",
    "\n",
    "## Index\n",
    "####  [1, Introduction](#section_1)\n",
    "####  [2, Basics](#section_2)\n",
    "####  [3, Variables & Operators](#section_3)\n",
    "####  [4, Popup Boxes](#section_4)\n",
    "####  [5, Conditional Staements](#section_5)\n",
    "####  [6, Loops](#section_6)\n",
    "####  [7, Functions](#section_7)\n",
    "####  [8, Events](#section_8)\n"
   ]
  },
  {
   "cell_type": "markdown",
   "metadata": {},
   "source": [
    "<a id=\"section_1\"></a>\n",
    "## [1, Introduction](#section-title)"
   ]
  },
  {
   "cell_type": "markdown",
   "metadata": {},
   "source": [
    "<a id=\"section_2\"></a>\n",
    "## [2, Basics](#section-title)\n",
    "JavaScript is <b> light weight, dynamic, untyped, scripting </b> language.<br/>\n",
    "It supports both <b> functional, object oriented </b> paradigms.\n",
    "Along with styling object <b>(HTML, CSS)</b>, JavaScript is required to develop interactive webpages.\n",
    "Originally developed to run on client/browser side, but now even server side frameworks like nodejs <br/>\n",
    "uses javascripting.\n",
    "\n",
    "Two ways to embed java script inside HTML: <br/>\n",
    "- Inline JavaScript - place script directly inside: &lt;script&gt; script here &lt;/script&gt;\n",
    "- External JavaScript - refer external script using src attribute. &lt;script src=\"..path to js file\"/&gt; <br/>\n",
    "\n",
    "Semicolon to seperate multiple statements on a single line.<br/>\n",
    "Comment styles are similar to Java."
   ]
  },
  {
   "cell_type": "markdown",
   "metadata": {},
   "source": [
    "<a id=\"section_3\"></a>\n",
    "## [3, Variables & Operators](#section-title)\n",
    "\n",
    "Three types of variables:\n",
    "- Numbers\n",
    "- Strings\n",
    "- Boolean"
   ]
  },
  {
   "cell_type": "code",
   "execution_count": 22,
   "metadata": {
    "scrolled": true
   },
   "outputs": [
    {
     "data": {
      "text/html": [
       "<html><head><script>\n",
       "\n",
       "// variables to hold Numbers\n",
       "var intVar = 1;\n",
       "var floatVar = 10.9;\n",
       "document.write(\"Integer variables:<br/>\")\n",
       "document.write(intVar,\"<br/>\")\n",
       "document.write(floatVar,\"<br/>\")\n",
       "\n",
       "// variables that hold strings\n",
       "var strVar1 = \"foo\"\n",
       "var strVar2 = 'bar'\n",
       "document.write(\"String variables:<br/>\")\n",
       "document.write(strVar1,\"<br/>\")\n",
       "document.write(strVar2,\"<br/>\")\n",
       "\n",
       "// variables to hold boolean\n",
       "var boolVar1 = true\n",
       "var boolVar2 = false\n",
       "document.write(\"Boolean variables:<br/>\")\n",
       "document.write(boolVar1,\"<br/>\")\n",
       "document.write(boolVar2,\"<br/>\")\n",
       "\n",
       "\n",
       "</script></head></html>\n"
      ],
      "text/plain": [
       "<IPython.core.display.HTML object>"
      ]
     },
     "metadata": {
      "text/html": {
       "isolated": true
      }
     },
     "output_type": "display_data"
    }
   ],
   "source": [
    "%%html --isolated\n",
    "<html><head><script>\n",
    "\n",
    "// variables to hold Numbers\n",
    "var intVar = 1;\n",
    "var floatVar = 10.9;\n",
    "document.write(\"Integer variables:<br/>\")\n",
    "document.write(intVar,\"<br/>\")\n",
    "document.write(floatVar,\"<br/>\")\n",
    "\n",
    "// variables that hold strings\n",
    "var strVar1 = \"foo\"\n",
    "var strVar2 = 'bar'\n",
    "document.write(\"String variables:<br/>\")\n",
    "document.write(strVar1,\"<br/>\")\n",
    "document.write(strVar2,\"<br/>\")\n",
    "\n",
    "// variables to hold boolean\n",
    "var boolVar1 = true\n",
    "var boolVar2 = false\n",
    "document.write(\"Boolean variables:<br/>\")\n",
    "document.write(boolVar1,\"<br/>\")\n",
    "document.write(boolVar2,\"<br/>\")\n",
    "\n",
    "\n",
    "</script></head></html>"
   ]
  },
  {
   "cell_type": "markdown",
   "metadata": {},
   "source": [
    "JS is untyped. The actual type of object is determinted by the operator."
   ]
  },
  {
   "cell_type": "code",
   "execution_count": 33,
   "metadata": {},
   "outputs": [
    {
     "data": {
      "text/html": [
       "<html><head><script>\n",
       "\n",
       "var intVar1 = 10\n",
       "var intVar2 = 100\n",
       "var strVar1 = \"100\"\n",
       "var strVar2 = \"name\"\n",
       "\n",
       "// string to int converstion\n",
       "document.write(\"Number + Number: \",(intVar1+intVar2),\"<br/>\")\n",
       "document.write(\"Number + String: \",(intVar1+strVar1),\"<br/>\")\n",
       "document.write(\"Number - String (compatible): \",(intVar1-strVar1),\"<br/>\")\n",
       "document.write(\"Number - String (incompatible): \",(intVar1-strVar2),\":Not an Number<br/>\")\n",
       "document.write(\"String + String: \",(strVar1+strVar2),\"<br/>\")\n",
       "\n",
       "\n",
       "</script></head></html>)\n"
      ],
      "text/plain": [
       "<IPython.core.display.HTML object>"
      ]
     },
     "metadata": {
      "text/html": {
       "isolated": true
      }
     },
     "output_type": "display_data"
    }
   ],
   "source": [
    "%%html --isolated\n",
    "<html><head><script>\n",
    "\n",
    "var intVar1 = 10\n",
    "var intVar2 = 100\n",
    "var strVar1 = \"100\"\n",
    "var strVar2 = \"name\"\n",
    "\n",
    "// string to int converstion\n",
    "document.write(\"Number + Number: \",(intVar1+intVar2),\"<br/>\")\n",
    "document.write(\"Number + String: \",(intVar1+strVar1),\"<br/>\")\n",
    "document.write(\"Number - String (compatible): \",(intVar1-strVar1),\"<br/>\")\n",
    "document.write(\"Number - String (incompatible): \",(intVar1-strVar2),\":Not an Number<br/>\")\n",
    "document.write(\"String + String: \",(strVar1+strVar2),\"<br/>\")\n",
    "\n",
    "\n",
    "</script></head></html>)"
   ]
  },
  {
   "cell_type": "markdown",
   "metadata": {},
   "source": [
    "<a id=\"section_4\"></a>\n",
    "## [4, Popup Boxes](#section-title)"
   ]
  },
  {
   "cell_type": "markdown",
   "metadata": {},
   "source": [
    "<a id=\"section_5\"></a>\n",
    "## [5, Conditional Statements](#section-title)"
   ]
  },
  {
   "cell_type": "markdown",
   "metadata": {},
   "source": [
    "<a id=\"section_6\"></a>\n",
    "## [6, Loops](#section-title)"
   ]
  },
  {
   "cell_type": "markdown",
   "metadata": {},
   "source": [
    "<a id=\"section_7\"></a>\n",
    "## [7 Functions](#section-title)"
   ]
  },
  {
   "cell_type": "markdown",
   "metadata": {},
   "source": [
    "<a id=\"section_8\"></a>\n",
    "## [8, Events](#section-title)"
   ]
  },
  {
   "cell_type": "code",
   "execution_count": null,
   "metadata": {},
   "outputs": [],
   "source": []
  }
 ],
 "metadata": {
  "kernelspec": {
   "display_name": "Python 3",
   "language": "python",
   "name": "python3"
  },
  "language_info": {
   "codemirror_mode": {
    "name": "ipython",
    "version": 3
   },
   "file_extension": ".py",
   "mimetype": "text/x-python",
   "name": "python",
   "nbconvert_exporter": "python",
   "pygments_lexer": "ipython3",
   "version": "3.7.3"
  }
 },
 "nbformat": 4,
 "nbformat_minor": 2
}
