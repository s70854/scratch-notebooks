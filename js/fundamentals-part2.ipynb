{
 "cells": [
  {
   "cell_type": "markdown",
   "metadata": {},
   "source": [
    "#  JavaScript Fundamentals Hands on [Part 2]\n",
    "\n",
    "## Index\n",
    "####  [12, Browser BOM](#section_12)\n",
    "####  [13, Form Validations](#section_13)\n",
    "####  [14, Creating Objects](#section_14)\n",
    "####  [15, Wrap UP](#section_15)"
   ]
  },
  {
   "cell_type": "markdown",
   "metadata": {},
   "source": [
    "<a id=\"section_12\"></a>\n",
    "## [12, Brower BOM](#section-title)\n",
    "\n",
    "<b>Browser Object Model</b>: Objects supported by browser (not part of JS).\n",
    "<b><i>window</i></b> object supports several methods/elements.\n",
    "- alert\n",
    "- confirm\n",
    "- prompt\n",
    "- setTimeOut\n",
    "- setInterval\n",
    "- location\n",
    "- history\n",
    "- screen\n",
    "- navigator\n"
   ]
  },
  {
   "cell_type": "code",
   "execution_count": 9,
   "metadata": {},
   "outputs": [
    {
     "data": {
      "text/html": [
       "<html><head><script>\n",
       "// Screen properties available\n",
       "document.write(\"<h3> screen properties </h3>\")\n",
       "for (el in screen) {\n",
       "    document.write(el + \":\" + screen.el + \"<br/>\")\n",
       "}\n",
       "// Screen properties available\n",
       "document.write(\"<h3> navigator properties </h3>\")\n",
       "for (el in navigator) {\n",
       "    document.write(el + \":\" + screen.el + \"<br/>\")\n",
       "}\n",
       "\n",
       "</script></head></html>\n"
      ],
      "text/plain": [
       "<IPython.core.display.HTML object>"
      ]
     },
     "metadata": {
      "text/html": {
       "isolated": true
      }
     },
     "output_type": "display_data"
    }
   ],
   "source": [
    "%%html --isolated\n",
    "<html><head><script>\n",
    "// Screen properties available\n",
    "document.write(\"<h3> screen properties </h3>\")\n",
    "for (el in screen) {\n",
    "    document.write(el + \":\" + screen.el + \"<br/>\")\n",
    "}\n",
    "// Screen properties available\n",
    "document.write(\"<h3> navigator properties </h3>\")\n",
    "for (el in navigator) {\n",
    "    document.write(el + \":\" + screen.el + \"<br/>\")\n",
    "}\n",
    "\n",
    "</script></head></html>"
   ]
  },
  {
   "cell_type": "markdown",
   "metadata": {},
   "source": [
    "<a id=\"section_13\"></a>\n",
    "## [13, Form validations](#section-title)\n",
    "\n",
    "onsubmit of <b><i>form</b></i> elements can be used to configure validation hook. <br/>\n",
    "If the valiation method returns false, the form will not perform the configured action\n"
   ]
  },
  {
   "cell_type": "code",
   "execution_count": null,
   "metadata": {},
   "outputs": [],
   "source": []
  }
 ],
 "metadata": {
  "kernelspec": {
   "display_name": "Python 3",
   "language": "python",
   "name": "python3"
  },
  "language_info": {
   "codemirror_mode": {
    "name": "ipython",
    "version": 3
   },
   "file_extension": ".py",
   "mimetype": "text/x-python",
   "name": "python",
   "nbconvert_exporter": "python",
   "pygments_lexer": "ipython3",
   "version": "3.7.3"
  }
 },
 "nbformat": 4,
 "nbformat_minor": 2
}
