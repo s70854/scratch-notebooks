{
 "cells": [
  {
   "cell_type": "markdown",
   "metadata": {},
   "source": [
    "#  Advanced and Object Oriented JavaScript and ES6\n",
    "\n",
    "<a id=\"index\"></a>\n",
    "## Index\n",
    "### [1, Primitive and Reference types](#section_1)\n",
    "### [2, Functions](#section_2)\n",
    "### [3, Objects](#section_3)\n",
    "### [4, Constructors and Prototypes](#section_4)\n",
    "### [5, Prototpyes](#section_5)\n",
    "### [6, Inheritance](#section_6)\n",
    "### [7, Patterns](#section_7)\n",
    "### [8, ES6 Features](#section_8)\n",
    "\n"
   ]
  },
  {
   "cell_type": "markdown",
   "metadata": {},
   "source": [
    "<a id=\"section_1\"></a>\n",
    "##  [1, Primitive and Reference types](#section_1)\n",
    "#### [back to index](#index)\n",
    "\n",
    "### Primitive types\n",
    "Stores simple data\n",
    "- Number (both float and int)\n",
    "- String (noth strings and char)\n",
    "- Boolean\n",
    "- Null\n",
    "- Undefined (if not initialized)"
   ]
  },
  {
   "cell_type": "code",
   "execution_count": 13,
   "metadata": {},
   "outputs": [
    {
     "data": {
      "text/html": [
       "<html><head><script>\n",
       "// PRMITIVE TYPES\n",
       "var number = 1.2\n",
       "var string = 'hello world'\n",
       "var isEmpty = false\n",
       "var empty = null\n",
       "var undef\n",
       "\n",
       "document.write(number + '<br/>')\n",
       "document.write(string + '<br/>')\n",
       "document.write(isEmpty + '<br/>')\n",
       "document.write(empty + '<br/>')\n",
       "document.write(undef + '<br/>')\n",
       "\n",
       "// PRIMITIVE TYPES ARE IMMUTABLE\n",
       "var anotherNumber = number\n",
       "anotherNumber++\n",
       "document.write(number + '<br/>')\n",
       "document.write(anotherNumber + '<br/>')\n",
       "\n",
       "</script></head></html>\n"
      ],
      "text/plain": [
       "<IPython.core.display.HTML object>"
      ]
     },
     "metadata": {
      "text/html": {
       "isolated": true
      }
     },
     "output_type": "display_data"
    }
   ],
   "source": [
    "%%html --isolated\n",
    "<html><head><script>\n",
    "// PRMITIVE TYPES\n",
    "var number = 1.2\n",
    "var string = 'hello world'\n",
    "var isEmpty = false\n",
    "var empty = null\n",
    "var undef\n",
    "\n",
    "document.write(number + '<br/>')\n",
    "document.write(string + '<br/>')\n",
    "document.write(isEmpty + '<br/>')\n",
    "document.write(empty + '<br/>')\n",
    "document.write(undef + '<br/>')\n",
    "\n",
    "// PRIMITIVE types makes seperate copy\n",
    "var anotherNumber = number\n",
    "anotherNumber++\n",
    "document.write(number + '<br/>')\n",
    "document.write(anotherNumber + '<br/>')\n",
    "\n",
    "</script></head></html>"
   ]
  },
  {
   "cell_type": "markdown",
   "metadata": {},
   "source": [
    "### Reference Types\n",
    "Point to memory location that will hold an Object. <br/>\n",
    "An Object is set of K,V pairs, where K is string & V is any of primitive, function or any other Object. <br/>\n",
    "<b>new</b> used to create a reference to an Object. <br/>\n",
    "The <b> dot .</b> operator can be used to dynamically add properties to the object. <br/>\n",
    "\n",
    "Object can be marked for cleanup by nullifying the references. The garbage collector of the js engine cleanups.\n"
   ]
  },
  {
   "cell_type": "code",
   "execution_count": 21,
   "metadata": {},
   "outputs": [
    {
     "data": {
      "text/html": [
       "<html><head><script>\n",
       "// REFERNCE TYPES\n",
       "var student = new Object()\n",
       "student.name='alice'\n",
       "student.age=32\n",
       "function details() {\n",
       "    return 'name:' + this.name + '<br/>' + 'age:' + this.age;\n",
       "}\n",
       "student.toString=details\n",
       "document.write(student.toString() + '<br/>')\n",
       "\n",
       "// REFERENCES point to same Object\n",
       "var anotherStudent = student\n",
       "anotherStudent.age++;\n",
       "document.write(student.toString() + '<br/>')\n",
       "document.write(anotherStudent.toString() + '<br/>')\n",
       "\n",
       "// cleanup\n",
       "student=anotherStudent=null\n",
       "\n",
       "</script></head></html>\n"
      ],
      "text/plain": [
       "<IPython.core.display.HTML object>"
      ]
     },
     "metadata": {
      "text/html": {
       "isolated": true
      }
     },
     "output_type": "display_data"
    }
   ],
   "source": [
    "%%html --isolated\n",
    "<html><head><script>\n",
    "// REFERNCE TYPES\n",
    "var student = new Object()\n",
    "student.name='alice'\n",
    "student.age=32\n",
    "function details() {\n",
    "    return 'name:' + this.name + '<br/>' + 'age:' + this.age;\n",
    "}\n",
    "student.toString=details\n",
    "document.write(student.toString() + '<br/>')\n",
    "\n",
    "// REFERENCES point to same Object\n",
    "var anotherStudent = student\n",
    "anotherStudent.age++;\n",
    "document.write(student.toString() + '<br/>')\n",
    "document.write(anotherStudent.toString() + '<br/>')\n",
    "\n",
    "// cleanup\n",
    "student=anotherStudent=null\n",
    "\n",
    "</script></head></html>"
   ]
  },
  {
   "cell_type": "markdown",
   "metadata": {},
   "source": [
    "### In Built Object types\n",
    "- Array: Ordered list of elements\n",
    "- Date: represents date & time\n",
    "- Error: represent runtime error\n",
    "- Function: represents a function\n",
    "- Object: generic object type\n",
    "- RegExp: pattern matching"
   ]
  },
  {
   "cell_type": "code",
   "execution_count": 22,
   "metadata": {},
   "outputs": [
    {
     "data": {
      "text/html": [
       "<html><head><script>\n",
       "// BUILT-IN OBJECTS\n",
       "var products = new Array()\n",
       "var date = new Date()\n",
       "var error = new Error('Something failed!')\n",
       "var myFunc = new Function('document.write(\"hello\")')\n",
       "var regEx = new RegExp(\"\\\\d+\")\n",
       "\n",
       "</script></head></html>\n"
      ],
      "text/plain": [
       "<IPython.core.display.HTML object>"
      ]
     },
     "metadata": {
      "text/html": {
       "isolated": true
      }
     },
     "output_type": "display_data"
    }
   ],
   "source": [
    "%%html --isolated\n",
    "<html><head><script>\n",
    "// BUILT-IN OBJECTS\n",
    "\n",
    "var products = new Array()\n",
    "var date = new Date()\n",
    "var error = new Error('Something failed!')\n",
    "var myFunc = new Function('document.write(\"hello\")')\n",
    "var regEx = new RegExp(\"\\\\d+\")\n",
    "\n",
    "</script></head></html>"
   ]
  },
  {
   "cell_type": "code",
   "execution_count": 23,
   "metadata": {},
   "outputs": [
    {
     "data": {
      "text/html": [
       "<html><head><script>\n",
       "// OBJECTS LITERALS (with out new)\n",
       "\n",
       "var student = {\n",
       "    name: \"alice\",\n",
       "    age: 20\n",
       "}\n",
       "\n",
       "var products = ['a','b']\n",
       "var date = new Date()\n",
       "var error = new Error('Something failed!')\n",
       "var myFunc = new Function('document.write(\"hello\")')\n",
       "var regEx = new RegExp(\"\\\\d+\")\n",
       "\n",
       "</script></head></html>\n"
      ],
      "text/plain": [
       "<IPython.core.display.HTML object>"
      ]
     },
     "metadata": {
      "text/html": {
       "isolated": true
      }
     },
     "output_type": "display_data"
    }
   ],
   "source": [
    "%%html --isolated\n",
    "<html><head><script>\n",
    "// OBJECTS LITERALS (with out new)\n",
    "\n",
    "// Object literal\n",
    "var student = {\n",
    "    name: \"alice\",\n",
    "    age: 20\n",
    "}\n",
    "\n",
    "// Array literal\n",
    "var products = ['a','b']\n",
    "\n",
    "\n",
    "// Function literal\n",
    "function myFunc() {\n",
    "    document.write(\"hello\")\n",
    "}\n",
    "\n",
    "// regEx literal\n",
    "var regEx = /\\d+/\n",
    "\n",
    "</script></head></html>"
   ]
  },
  {
   "cell_type": "markdown",
   "metadata": {},
   "source": [
    "<a id=\"section_2\"></a>\n",
    "##  [2, Functions](#section_2)\n",
    "#### [back to index](#index)"
   ]
  },
  {
   "cell_type": "markdown",
   "metadata": {},
   "source": [
    "<a id=\"section_3\"></a>\n",
    "##  [3, Objects](#section_3)\n",
    "#### [back to index](#index)"
   ]
  },
  {
   "cell_type": "markdown",
   "metadata": {},
   "source": [
    "<a id=\"section_4\"></a>\n",
    "##  [4, Constructors and Prototypes](#section_4)\n",
    "#### [back to index](#index)"
   ]
  },
  {
   "cell_type": "markdown",
   "metadata": {},
   "source": [
    "<a id=\"section_5\"></a>\n",
    "##  [5, Prototypes](#section_5)\n",
    "#### [back to index](#index)"
   ]
  },
  {
   "cell_type": "markdown",
   "metadata": {},
   "source": [
    "<a id=\"section_6\"></a>\n",
    "##  [6, Inheritance](#section_6)\n",
    "#### [back to index](#index)"
   ]
  },
  {
   "cell_type": "markdown",
   "metadata": {},
   "source": [
    "<a id=\"section_7\"></a>\n",
    "##  [7, Patterns](#section_7)\n",
    "#### [back to index](#index)"
   ]
  },
  {
   "cell_type": "markdown",
   "metadata": {},
   "source": [
    "<a id=\"section_8\"></a>\n",
    "##  [8, ES6 Features](#section_8)\n",
    "#### [back to index](#index)"
   ]
  },
  {
   "cell_type": "code",
   "execution_count": null,
   "metadata": {},
   "outputs": [],
   "source": []
  }
 ],
 "metadata": {
  "kernelspec": {
   "display_name": "Python 3",
   "language": "python",
   "name": "python3"
  },
  "language_info": {
   "codemirror_mode": {
    "name": "ipython",
    "version": 3
   },
   "file_extension": ".py",
   "mimetype": "text/x-python",
   "name": "python",
   "nbconvert_exporter": "python",
   "pygments_lexer": "ipython3",
   "version": "3.7.3"
  }
 },
 "nbformat": 4,
 "nbformat_minor": 2
}
