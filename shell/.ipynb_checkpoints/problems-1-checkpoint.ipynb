{
 "cells": [
  {
   "cell_type": "markdown",
   "metadata": {},
   "source": [
    "#### 1a,  Variable slicing "
   ]
  },
  {
   "cell_type": "code",
   "execution_count": 15,
   "metadata": {},
   "outputs": [
    {
     "name": "stdout",
     "output_type": "stream",
     "text": [
      "environment\n",
      "BeakerX\n",
      "1---------------\n",
      "s a collection of kernels and extensions to the Jupyter interactive computing environment\n",
      "ronment\n",
      "BeakerX is a collection of kernels and extensions to the Jupyter interactive computing env\n",
      "BeakerX\n",
      "2---------------\n",
      "BeakerX is a COLLECTION of kernels and extensions to the Jupyter interactive computing environment\n",
      "BeAkerX is A collection of kernels And extensions to the Jupyter interActive computing environment\n",
      "X is a collection of kernels and extensions to the Jupyter interactive computing environment\n",
      "BeakerX is a collection of kernels and extensions to the Jupyter interactive computing environmenX\n",
      "3---------------\n",
      "B\n",
      "Beaker\n"
     ]
    }
   ],
   "source": [
    "%%bash\n",
    "var=\"BeakerX is a collection of kernels and extensions to the Jupyter interactive computing environment\"\n",
    "# string slicing ${var:position}\n",
    "echo ${var:87}\n",
    "# string slicing ${var:position:length}\n",
    "echo ${var:0:7}\n",
    "\n",
    "echo '1---------------'\n",
    "# string removal ${var#regex} -- from front,shortest\n",
    "echo ${var#B*i}\n",
    "# string removal ${var##regex} -- from front,longest\n",
    "echo ${var##B*i}\n",
    "# string removal ${var%regex} -- from back,shortest\n",
    "echo ${var%i*t}\n",
    "# string removal ${var%%regex} -- from back,longest\n",
    "echo ${var%%i*t}\n",
    "\n",
    "\n",
    "echo '2---------------'\n",
    "# string substitution ${var/find/replace}- once\n",
    "echo ${var/collection/COLLECTION}\n",
    "# string substitution ${var//find/replace}- all instances\n",
    "echo ${var//a/A}\n",
    "# string substitution ${var/#find/replace}- match front\n",
    "echo ${var/#BeakerX/X}\n",
    "# string substitution ${var/#find/replace}- match back\n",
    "echo ${var/%t/X}\n",
    "\n",
    "echo '3---------------'\n",
    "# using cut\n",
    "echo $(echo $var | cut -c1)\n",
    "echo $(echo $var | cut -c1-6)\n",
    "\n",
    "# using\n"
   ]
  },
  {
   "cell_type": "markdown",
   "metadata": {},
   "source": [
    "#### 1,  Check if a command is present in PATH"
   ]
  },
  {
   "cell_type": "code",
   "execution_count": 58,
   "metadata": {},
   "outputs": [
    {
     "name": "stdout",
     "output_type": "stream",
     "text": [
      "found! result:0\n",
      "found! result:0\n",
      "not found! result:1\n"
     ]
    }
   ],
   "source": [
    "%%bash\n",
    "\n",
    "# result will be set to 0 if cmd is found in PATH\n",
    "# Note: bash functions does not support returning a value.\n",
    "#       alternatively the function can echo the result, and caller can caputure to a variable: result=$(func arg)\n",
    "#       <or> function can set the result to a variable which can be accessed by caller outside\n",
    "#       <or> function can take variable name as arg and use eval to set it (used below)\n",
    "inPath() \n",
    "{\n",
    "    BKUP_IFS=$IFS;IFS=':'\n",
    "    cmd=$1\n",
    "    _result_var=$2\n",
    "    result=1  \n",
    "    \n",
    "    # check if cmd is absolute path\n",
    "    if [ ${cmd:0:1} == '/' ]; then\n",
    "        if [ -x $cmd ]; then\n",
    "            result=0\n",
    "        fi\n",
    "        eval \"${_result_var}=${result}\"\n",
    "        return\n",
    "    fi\n",
    "\n",
    "    for directory in $PATH;\n",
    "    do\n",
    "        if [ -x ${directory}/$cmd ]; then\n",
    "            result=0\n",
    "        fi\n",
    "    done\n",
    "    eval \"${_result_var}=${result}\"\n",
    "}\n",
    "\n",
    "# main -> tests\n",
    "inPath curl result\n",
    "if  [ $result -eq 0 ]; then\n",
    "    echo \"found! result:$result\"\n",
    "fi\n",
    "\n",
    "inPath /usr/bin/curl result\n",
    "if  [ $result -eq 0 ]; then\n",
    "    echo \"found! result:$result\"\n",
    "fi\n",
    "\n",
    "inPath emacs result\n",
    "if  [ $result -ne 0 ]; then\n",
    "    echo \"not found! result:$result\"\n",
    "fi\n"
   ]
  },
  {
   "cell_type": "code",
   "execution_count": null,
   "metadata": {},
   "outputs": [],
   "source": []
  }
 ],
 "metadata": {
  "kernelspec": {
   "display_name": "Python 3",
   "language": "python",
   "name": "python3"
  },
  "language_info": {
   "codemirror_mode": {
    "name": "ipython",
    "version": 3
   },
   "file_extension": ".py",
   "mimetype": "text/x-python",
   "name": "python",
   "nbconvert_exporter": "python",
   "pygments_lexer": "ipython3",
   "version": "3.6.5"
  },
  "toc": {
   "base_numbering": 1,
   "nav_menu": {},
   "number_sections": false,
   "sideBar": false,
   "skip_h1_title": false,
   "title_cell": "Table of Contents",
   "title_sidebar": "Contents",
   "toc_cell": false,
   "toc_position": {},
   "toc_section_display": false,
   "toc_window_display": false
  }
 },
 "nbformat": 4,
 "nbformat_minor": 2
}
