{
 "cells": [
  {
   "cell_type": "markdown",
   "metadata": {},
   "source": [
    "<a id=\"section_1\"></a>\n",
    "[1, this is the section name](#section-title)"
   ]
  },
  {
   "cell_type": "markdown",
   "metadata": {},
   "source": [
    "[headings:](#section-title)\n",
    "\n",
    "# title \n",
    " ## major headings \n",
    " ### subheadings \n",
    " #### 4th level subheadings\n",
    " \n",
    "title in different way\n",
    "=======\n",
    "\n",
    "tile in small different way\n",
    "-------\n",
    " \n"
   ]
  },
  {
   "cell_type": "markdown",
   "metadata": {},
   "source": [
    "[How to swith to normal mode from edit mode of a cell / to execute code of a cell](#section-title)\n",
    "    \n",
    "SHIFT + ENTER"
   ]
  },
  {
   "cell_type": "markdown",
   "metadata": {},
   "source": [
    "[indentation:](#section-title)\n",
    "> level1\n",
    "  leve1 plus\n",
    ">> level2\n",
    "   level2 plus"
   ]
  },
  {
   "cell_type": "markdown",
   "metadata": {},
   "source": [
    "[colored text:](#section-title)\n",
    "<font color=red> colored font </font>"
   ]
  },
  {
   "cell_type": "markdown",
   "metadata": {},
   "source": [
    "[a table:](#section-title)\n",
    "\n",
    "|a|b|c|\n",
    "|-|-|-|\n",
    "|1 very lengthy cell <br> with a line break|2|3|\n",
    "|0|0|0|\n",
    "|-|-|-|"
   ]
  },
  {
   "cell_type": "markdown",
   "metadata": {},
   "source": [
    "[bold, italic:](#section-title)\n",
    "\n",
    "__bold__\n",
    "_italic_\n",
    "~~strike me.~~\n"
   ]
  },
  {
   "cell_type": "code",
   "execution_count": null,
   "metadata": {},
   "outputs": [],
   "source": [
    "[insert a pic:](#section-title)\n",
    "![python.png](attachment:python.png)"
   ]
  },
  {
   "cell_type": "markdown",
   "metadata": {},
   "source": [
    "[bullet points:](#section-title)\n",
    "- one\n",
    "-  two\n",
    "  - three\n",
    "\n",
    "numberd list\n",
    "1. one\n",
    "2. two"
   ]
  },
  {
   "cell_type": "markdown",
   "metadata": {},
   "source": [
    "[url reference::](#section-title)\n",
    "__[all this useful info can be found here](https://medium.com/ibm-data-science-experience/markdown-for-jupyter-notebooks-cheatsheet-386c05aeebed)__\n",
    "\n",
    "__[another useful link](https://github.com/adam-p/markdown-here/wiki/Markdown-Here-Cheatsheet)__"
   ]
  },
  {
   "cell_type": "markdown",
   "metadata": {},
   "source": [
    "[control jump:](#section-title)\n",
    "\n",
    "\n",
    "[jumpt to section1](#section_1)"
   ]
  },
  {
   "cell_type": "markdown",
   "metadata": {},
   "source": [
    "[demo of horizontal lines:](#section-title)\n",
    "***\n",
    "now something\n",
    "and more\n",
    "and more\n",
    "***\n",
    "then different thing"
   ]
  },
  {
   "cell_type": "markdown",
   "metadata": {},
   "source": [
    "[code syntax:](#section-title)\n",
    "\n",
    "python code\n",
    "```python\n",
    "from re import match;\n",
    "print(dir(match))\n",
    "```\n",
    "\n",
    "java code\n",
    "```java\n",
    "System.out.println(\"java rocks\")\n",
    "```\n",
    "\n"
   ]
  },
  {
   "cell_type": "markdown",
   "metadata": {},
   "source": [
    "##references\n",
    "- https://www.eecis.udel.edu/~boncelet/ipython.html\n",
    "- https://github.com/jupyter/jupyter/wiki/A-gallery-of-interesting-Jupyter-Notebooks\n",
    "- http://nbviewer.jupyter.org/\n",
    "- https://github.com/CambridgeEngineering/PartIA-Computing-Michaelmas\n",
    "- https://github.com/deanwampler/JustEnoughScalaForSpark"
   ]
  },
  {
   "cell_type": "code",
   "execution_count": 7,
   "metadata": {},
   "outputs": [
    {
     "name": "stdout",
     "output_type": "stream",
     "text": [
      "3\n"
     ]
    }
   ],
   "source": [
    "%%bash\n",
    "# how to write inline bash code\n",
    "a=$(expr 1 + 2)\n",
    "echo $a"
   ]
  },
  {
   "cell_type": "code",
   "execution_count": null,
   "metadata": {},
   "outputs": [],
   "source": []
  }
 ],
 "metadata": {
  "kernelspec": {
   "display_name": "Python 3",
   "language": "python",
   "name": "python3"
  },
  "language_info": {
   "codemirror_mode": {
    "name": "ipython",
    "version": 3
   },
   "file_extension": ".py",
   "mimetype": "text/x-python",
   "name": "python",
   "nbconvert_exporter": "python",
   "pygments_lexer": "ipython3",
   "version": "3.6.5"
  },
  "toc": {
   "base_numbering": 1,
   "nav_menu": {},
   "number_sections": false,
   "sideBar": false,
   "skip_h1_title": false,
   "title_cell": "Table of Contents",
   "title_sidebar": "Contents",
   "toc_cell": false,
   "toc_position": {},
   "toc_section_display": false,
   "toc_window_display": false
  }
 },
 "nbformat": 4,
 "nbformat_minor": 2
}
